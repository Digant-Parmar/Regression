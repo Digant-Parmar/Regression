{
 "cells": [
  {
   "cell_type": "code",
   "execution_count": 40,
   "metadata": {},
   "outputs": [],
   "source": [
    "import numpy as np\n",
    "import matplotlib.pyplot as plt\n",
    "\n",
    "def estimate_coef(x, y):\n",
    "\n",
    "    n=np.size(x)\n",
    "\n",
    "    m_x,m_y = np.mean(x),np.mean(y)\n",
    "\n",
    "    ss_xy = np.sum(y*x) - n*m_x*m_y\n",
    "    ss_xx = np.sum(x*x) - n*m_x*m_x\n",
    "\n",
    "\n",
    "    b_1 = ss_xx/ss_xy\n",
    "    b_0 = m_y - m_x*b_1\n",
    "\n",
    "    return (b_0,b_1)"
   ]
  },
  {
   "cell_type": "code",
   "execution_count": 41,
   "metadata": {},
   "outputs": [],
   "source": [
    "def plot_regression_line(x,y,b):\n",
    "    plt.scatter(x,y, color ='m' , marker = \"o\", s = 30)\n",
    "    \n",
    "    y_pred = b[0] +b[1]*x\n",
    "    \n",
    "    plt.plot(x,y_pred,color = \"g\")\n",
    "    \n",
    "    plt.xlabel('X')\n",
    "    plt.ylabel('Y')\n",
    "    \n",
    "    plt.show()"
   ]
  },
  {
   "cell_type": "code",
   "execution_count": 43,
   "metadata": {},
   "outputs": [
    {
     "name": "stdout",
     "output_type": "stream",
     "text": [
      "Estimated coef:\n",
      "b_0 =  2.652849740932642 \n",
      "b_1= 0.8549222797927462\n"
     ]
    },
    {
     "data": {
      "image/png": "[encoded data removed]",
      "text/plain": [
       "<Figure size 432x288 with 1 Axes>"
      ]
     },
     "metadata": {
      "needs_background": "light"
     },
     "output_type": "display_data"
    }
   ],
   "source": [
    "def main():\n",
    "    \n",
    "    x = np.array([0,1,2,3,4,5,6,7,8,9])\n",
    "    y = np.array([1,3,2,5,7,8,8,9,10,12])\n",
    "    \n",
    "    b = estimate_coef(x,y)\n",
    "    print(\"Estimated coef:\\nb_0 = \",b[0],\"\\nb_1=\",b[1])\n",
    "    \n",
    "    plot_regression_line(x,y,b)\n",
    "    \n",
    "if __name__==\"__main__\":\n",
    "     main()\n",
    "        \n",
    "    "
   ]
  },
  {
   "cell_type": "code",
   "execution_count": null,
   "metadata": {},
   "outputs": [],
   "source": []
  },
  {
   "cell_type": "code",
   "execution_count": null,
   "metadata": {},
   "outputs": [],
   "source": []
  }
 ],
 "metadata": {
  "kernelspec": {
   "display_name": "Python 3",
   "language": "python",
   "name": "python3"
  },
  "language_info": {
   "codemirror_mode": {
    "name": "ipython",
    "version": 3
   },
   "file_extension": ".py",
   "mimetype": "text/x-python",
   "name": "python",
   "nbconvert_exporter": "python",
   "pygments_lexer": "ipython3",
   "version": "3.7.6"
  }
 },
 "nbformat": 4,
 "nbformat_minor": 4
}
